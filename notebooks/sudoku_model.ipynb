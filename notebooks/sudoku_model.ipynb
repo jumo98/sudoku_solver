{
 "cells": [
  {
   "cell_type": "markdown",
   "metadata": {},
   "source": [
    "# Sudoku Machine Learning Model\n",
    "\n",
    "In this notebook we will train a machine learning model to solve sudokus\n",
    "\n",
    "## Data preparation\n",
    "\n",
    "The first step is to read and prepare the provided data. The data used for training the model is publicly available on Kaggle under the following URL:\n",
    "\n",
    "https://www.kaggle.com/datasets/bryanpark/sudoku\n",
    "\n",
    "The puzzles are reshaped to 9x9 array since this will be the input format for our model. The solutions will be reshaped to a 81x1 array for macthing the output format of our model.\n",
    "We will also apply normalization on our data to improve the model performance."
   ]
  },
  {
   "cell_type": "code",
   "execution_count": 1,
   "metadata": {},
   "outputs": [],
   "source": [
    "import numpy as np\n",
    "import pandas as pd\n",
    "from sklearn.model_selection import train_test_split\n",
    "\n",
    "def prepare_data(file): \n",
    "    data = pd.read_csv(file)\n",
    "\n",
    "    feat_raw = data['quizzes']\n",
    "    label_raw = data['solutions']\n",
    "\n",
    "    feat = []\n",
    "    label = []\n",
    "\n",
    "    # Reshape puzzles to 9x9 array\n",
    "    for i in feat_raw:\n",
    "        x = np.array([int(j) for j in i]).reshape((9,9,1))\n",
    "        feat.append(x)\n",
    "    \n",
    "    # Normalize values\n",
    "    feat = np.array(feat)\n",
    "    feat = feat/9\n",
    "    feat -= .5    \n",
    "    \n",
    "    # Reshape solutions to 81x1 array\n",
    "    for i in label_raw:\n",
    "        x = np.array([int(j) for j in i]).reshape((81,1)) - 1\n",
    "        label.append(x)   \n",
    "    \n",
    "    label = np.array(label)\n",
    "    \n",
    "    # Remove raw data from memory\n",
    "    del(feat_raw)\n",
    "    del(label_raw)    \n",
    "\n",
    "    # Split to 80% training and 20% validation\n",
    "    x_train, x_test, y_train, y_test = train_test_split(feat, label, test_size=0.20)\n",
    "    \n",
    "    return x_train, x_test, y_train, y_test\n"
   ]
  },
  {
   "cell_type": "markdown",
   "metadata": {},
   "source": [
    "## Model creation\n",
    "\n",
    "In this step, we will create our model. By its nature, a Sudoku has some semantic meaning included and therefore we will use an approach based on Convolutional Neural Network (CNN) with Tensorflow (keras)."
   ]
  },
  {
   "cell_type": "code",
   "execution_count": null,
   "metadata": {},
   "outputs": [],
   "source": [
    "import keras\n",
    "from keras.layers import Activation\n",
    "from keras.layers import Conv2D, BatchNormalization, Dense, Flatten, Reshape\n",
    "\n",
    "def get_model():\n",
    "    model = keras.models.Sequential()\n",
    "\n",
    "    model.add(Conv2D(64, kernel_size=(3,3), activation='relu', padding='same', input_shape=(9,9,1)))\n",
    "    model.add(BatchNormalization())\n",
    "    model.add(Conv2D(64, kernel_size=(3,3), activation='relu', padding='same'))\n",
    "    model.add(BatchNormalization())\n",
    "    model.add(Conv2D(128, kernel_size=(1,1), activation='relu', padding='same'))\n",
    "\n",
    "    model.add(Flatten())\n",
    "    model.add(Dense(81*9))\n",
    "    model.add(Reshape((-1, 9)))\n",
    "    model.add(Activation('softmax'))\n",
    "    \n",
    "    return model\n",
    " "
   ]
  },
  {
   "cell_type": "markdown",
   "metadata": {},
   "source": [
    "## Load the data\n",
    "\n",
    "We load the data and split to training and validation datasets.\n",
    "\n",
    "The dataset can be downloaded here:\n",
    "https://www.kaggle.com/datasets/bryanpark/sudoku"
   ]
  },
  {
   "cell_type": "code",
   "execution_count": 3,
   "metadata": {},
   "outputs": [],
   "source": [
    "x_train, x_test, y_train, y_test = prepare_data('sudoku.csv')"
   ]
  },
  {
   "cell_type": "markdown",
   "metadata": {},
   "source": [
    "## Train the model\n",
    "\n",
    "In this chapter we will finally train our model. We will introduce a callback function that would reduce the learning rate in case of an unchanging accuracy on the validation set (val_accuracy)."
   ]
  },
  {
   "cell_type": "code",
   "execution_count": 4,
   "metadata": {},
   "outputs": [],
   "source": [
    "from keras.callbacks import Callback, ReduceLROnPlateau\n",
    "\n",
    "reduce_lr = ReduceLROnPlateau(\n",
    "    monitor='val_accuracy',\n",
    "    patience=3,\n",
    "    verbose=1,\n",
    "    min_lr=1e-6\n",
    ")\n",
    "callbacks_list = [reduce_lr]"
   ]
  },
  {
   "cell_type": "markdown",
   "metadata": {},
   "source": [
    "We will used the Adam optimizer with an initial learning_rate of 0.001.\n",
    "The model is then initialized and trained with data. From performing several tests I could not notice a severe difference training for more than five epochs.\n",
    "\n",
    "After the training, we save the model so that we can access it later from our web application."
   ]
  },
  {
   "cell_type": "code",
   "execution_count": 7,
   "metadata": {},
   "outputs": [
    {
     "name": "stdout",
     "output_type": "stream",
     "text": [
      "Epoch 1/5\n",
      "2500/2500 [==============================] - 275s 110ms/step - loss: 0.6192 - accuracy: 0.7422 - val_loss: 0.3969 - val_accuracy: 0.8157 - lr: 0.0010\n",
      "Epoch 2/5\n",
      "2500/2500 [==============================] - 272s 109ms/step - loss: 0.3795 - accuracy: 0.8219 - val_loss: 0.3718 - val_accuracy: 0.8240 - lr: 0.0010\n",
      "Epoch 3/5\n",
      "2500/2500 [==============================] - 274s 110ms/step - loss: 0.3593 - accuracy: 0.8309 - val_loss: 0.3633 - val_accuracy: 0.8278 - lr: 0.0010\n",
      "Epoch 4/5\n",
      "2500/2500 [==============================] - 273s 109ms/step - loss: 0.3460 - accuracy: 0.8384 - val_loss: 0.3599 - val_accuracy: 0.8298 - lr: 0.0010\n",
      "Epoch 5/5\n",
      "2500/2500 [==============================] - 273s 109ms/step - loss: 0.3353 - accuracy: 0.8449 - val_loss: 0.3589 - val_accuracy: 0.8303 - lr: 0.0010\n"
     ]
    }
   ],
   "source": [
    "model = get_model()\n",
    "\n",
    "adam = keras.optimizers.Adam(learning_rate=.001)\n",
    "model.compile(loss='sparse_categorical_crossentropy', \n",
    "              optimizer=adam, \n",
    "              metrics=['accuracy'])\n",
    "\n",
    "model.fit(x_train, y_train, \n",
    "          validation_data=(x_test,y_test), batch_size=320, \n",
    "          epochs=5, verbose=1, callbacks=callbacks_list)\n",
    "\n",
    "model.save(\"sudoku.h5\")"
   ]
  },
  {
   "cell_type": "code",
   "execution_count": null,
   "metadata": {},
   "outputs": [],
   "source": []
  }
 ],
 "metadata": {
  "kernelspec": {
   "display_name": "Python 3 (ipykernel)",
   "language": "python",
   "name": "python3"
  },
  "language_info": {
   "codemirror_mode": {
    "name": "ipython",
    "version": 3
   },
   "file_extension": ".py",
   "mimetype": "text/x-python",
   "name": "python",
   "nbconvert_exporter": "python",
   "pygments_lexer": "ipython3",
   "version": "3.9.13"
  }
 },
 "nbformat": 4,
 "nbformat_minor": 2
}
